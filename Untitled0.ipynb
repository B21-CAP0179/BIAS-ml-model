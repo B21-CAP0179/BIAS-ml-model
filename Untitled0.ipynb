{
  "nbformat": 4,
  "nbformat_minor": 0,
  "metadata": {
    "colab": {
      "name": "Untitled0.ipynb",
      "provenance": [],
      "collapsed_sections": [],
      "authorship_tag": "ABX9TyNJ+6D67G61t6xLstDIxUCo",
      "include_colab_link": true
    },
    "kernelspec": {
      "name": "python3",
      "display_name": "Python 3"
    },
    "language_info": {
      "name": "python"
    }
  },
  "cells": [
    {
      "cell_type": "markdown",
      "metadata": {
        "id": "view-in-github",
        "colab_type": "text"
      },
      "source": [
        "<a href=\"https://colab.research.google.com/github/peduli-lindungi-id/BIAS-ml-model/blob/main/Untitled0.ipynb\" target=\"_parent\"><img src=\"https://colab.research.google.com/assets/colab-badge.svg\" alt=\"Open In Colab\"/></a>"
      ]
    },
    {
      "cell_type": "markdown",
      "metadata": {
        "id": "lIrOtHobnhdj"
      },
      "source": [
        "referensi cara connect github, colab, dan gdrive didapat dari https://medium.com/analytics-vidhya/how-to-use-google-colab-with-github-via-google-drive-68efb23a42d"
      ]
    },
    {
      "cell_type": "code",
      "metadata": {
        "id": "icDqfW71g9d3",
        "colab": {
          "base_uri": "https://localhost:8080/"
        },
        "outputId": "41bfac54-6984-4b7e-fb7a-173678e1d9a0"
      },
      "source": [
        "from google.colab import drive\n",
        "drive.mount('/content/gdrive')"
      ],
      "execution_count": 1,
      "outputs": [
        {
          "output_type": "stream",
          "text": [
            "Mounted at /content/gdrive\n"
          ],
          "name": "stdout"
        }
      ]
    },
    {
      "cell_type": "code",
      "metadata": {
        "colab": {
          "base_uri": "https://localhost:8080/"
        },
        "id": "0xitXSWm0_tC",
        "outputId": "dc191d56-87b2-42d6-85e0-79269f793ab6"
      },
      "source": [
        "%ls -alR"
      ],
      "execution_count": 9,
      "outputs": [
        {
          "output_type": "stream",
          "text": [
            ".:\n",
            "total 4\n",
            "drwx------ 6 root root 4096 May 11 07:29 \u001b[0m\u001b[01;34mB21-CAP0179\u001b[0m/\n",
            "\n",
            "./B21-CAP0179:\n",
            "total 17\n",
            "-rw------- 1 root root   72 May 27 08:00 'figma link.txt'\n",
            "drwx------ 2 root root 4096 May 11 08:23 \u001b[01;34m'Meeting Recordings'\u001b[0m/\n",
            "drwx------ 2 root root 4096 May 27 14:05 \u001b[01;34m'Notebook model'\u001b[0m/\n",
            "drwx------ 2 root root 4096 May 11 07:29  \u001b[01;34mNotes\u001b[0m/\n",
            "drwx------ 2 root root 4096 May 26 10:18  \u001b[01;34mPapers\u001b[0m/\n",
            "-rw------- 1 root root  151 May 27 04:28  Timeline.gsheet\n",
            "\n",
            "'./B21-CAP0179/Meeting Recordings':\n",
            "total 450534\n",
            "-rw------- 1 root root 461346562 May 11 08:07 '2021-05-11 14-08-13.mkv'\n",
            "\n",
            "'./B21-CAP0179/Notebook model':\n",
            "total 3\n",
            "-rw------- 1 root root 2137 May 28 16:36 Untitled0.ipynb\n",
            "\n",
            "./B21-CAP0179/Notes:\n",
            "total 1\n",
            "-rw------- 1 root root 151 May 11 08:43 '2021-05-11. Kickoff Meeting with Mentor.gdoc'\n",
            "\n",
            "./B21-CAP0179/Papers:\n",
            "total 5\n",
            "drwx------ 2 root root 4096 May 27 04:27 \u001b[01;34mReferences\u001b[0m/\n",
            "-rw------- 1 root root  151 May 27 05:16 Summary.gdoc\n",
            "-rw------- 1 root root  306 May 27 08:01 Untitled\n",
            "\n",
            "./B21-CAP0179/Papers/References:\n",
            "total 8\n",
            "drwx------ 2 root root 4096 May 27 05:11 \u001b[01;34mBrain\u001b[0m/\n",
            "drwx------ 2 root root 4096 May 27 04:34 \u001b[01;34mChest\u001b[0m/\n",
            "\n",
            "./B21-CAP0179/Papers/References/Brain:\n",
            "total 0\n",
            "\n",
            "./B21-CAP0179/Papers/References/Chest:\n",
            "total 24\n",
            "drwx------ 2 root root 4096 May 27 04:35  \u001b[01;34mCOVID\u001b[0m/\n",
            "drwx------ 2 root root 4096 May 27 04:50 \u001b[01;34m'Lung Cancer'\u001b[0m/\n",
            "drwx------ 2 root root 4096 May 27 04:55  \u001b[01;34mMixed\u001b[0m/\n",
            "drwx------ 2 root root 4096 May 27 04:42  \u001b[01;34mPneumonia\u001b[0m/\n",
            "drwx------ 2 root root 4096 May 27 05:08  \u001b[01;34mPneumothorax\u001b[0m/\n",
            "drwx------ 2 root root 4096 May 27 04:56  \u001b[01;34mTuberculosis\u001b[0m/\n",
            "\n",
            "./B21-CAP0179/Papers/References/Chest/COVID:\n",
            "total 2234\n",
            "-rw------- 1 root root  607034 May 27 04:35 'COVID-GATNet- A Deep Learning Framework for Screening of COVID-19 from Chest X-Ray Images.pdf'\n",
            "-rw------- 1 root root  262475 May 27 05:11 'COVID-MobileXpert- On-Device COVID-19 Patient Triage and Follow-up using Chest X-rays.pdf'\n",
            "-rw------- 1 root root 1192050 May 27 04:36 'Detection of Covid-19 Patients using Chest X-ray images with Convolution Neural Network and Mobile Net.pdf'\n",
            "-rw------- 1 root root  224660 May 27 04:33 'Prediction of COVID-19 Cases Using CNN with x-rays.pdf'\n",
            "\n",
            "'./B21-CAP0179/Papers/References/Chest/Lung Cancer':\n",
            "total 896\n",
            "-rw------- 1 root root 504090 May 27 04:46 'Feature Extraction and Classification of Chest X-Ray Images Using CNN to Detect Pneumonia.pdf'\n",
            "-rw------- 1 root root 412701 May 27 04:51 'Reducing False Positives for Lung Nodule Detection in Chest X-rays using Cascading CNN.pdf'\n",
            "\n",
            "./B21-CAP0179/Papers/References/Chest/Mixed:\n",
            "total 469\n",
            "-rw------- 1 root root 479471 May 27 04:55 'Early Prediction of Lung Diseases.pdf'\n",
            "\n",
            "./B21-CAP0179/Papers/References/Chest/Pneumonia:\n",
            "total 3355\n",
            "-rw------- 1 root root 1476255 May 27 04:42 'Comparative Experiment of Convolutional Neural Network (CNN) Models Based on Pneumonia X-ray Images Detection.pdf'\n",
            "-rw------- 1 root root  504090 May 27 04:46 'Feature Extraction and Classification of Chest X-Ray Images Using CNN to Detect Pneumonia.pdf'\n",
            "-rw------- 1 root root 1453754 May 27 04:46 'Pneumonia Detection in chest X-rays- a deep learning approach based on ensemble RetinaNet and Mask R-CNN.pdf'\n",
            "\n",
            "./B21-CAP0179/Papers/References/Chest/Pneumothorax:\n",
            "total 4354\n",
            "-rw------- 1 root root 1696560 May 27 05:07 'Automated Diagnosis of Pneumothorax X-ray Images Utilizing Deep Convolutional Neural Network.pdf'\n",
            "-rw------- 1 root root  731010 May 27 05:07 'Diagnostic tool for pneumothorax.pdf'\n",
            "-rw------- 1 root root 1014896 May 27 05:07 'Pneumothorax Image Segmentation and Prediction with UNet++ and MSOF Strategy (1).pdf'\n",
            "-rw------- 1 root root 1014896 May 27 05:07 'Pneumothorax Image Segmentation and Prediction with UNet++ and MSOF Strategy.pdf'\n",
            "\n",
            "./B21-CAP0179/Papers/References/Chest/Tuberculosis:\n",
            "total 2606\n",
            "-rw------- 1 root root 1150106 May 27 05:03 'An algorithm for the enhancement of chest X-ray images of tuberculosis patients.pdf'\n",
            "-rw------- 1 root root  844853 May 27 04:57 'Early Detection of Tuberculosis using Chest X-Ray (CXR) with Computer-Aided Diagnosis.pdf'\n",
            "-rw------- 1 root root  672262 May 27 04:58 'IOS Mobile APP for Tuberculosis Detection Based on Chest X-Ray Image.pdf'\n"
          ],
          "name": "stdout"
        }
      ]
    },
    {
      "cell_type": "code",
      "metadata": {
        "colab": {
          "base_uri": "https://localhost:8080/"
        },
        "id": "etpd3Hms0ls7",
        "outputId": "6b0bf6b1-0101-48a1-a9f0-ce2e3c8b47f2"
      },
      "source": [
        "%cd /content/gdrive/Shareddrives/B21-CAP0179/Notebook model"
      ],
      "execution_count": 10,
      "outputs": [
        {
          "output_type": "stream",
          "text": [
            "/content/gdrive/Shareddrives/B21-CAP0179/Notebook model\n"
          ],
          "name": "stdout"
        }
      ]
    },
    {
      "cell_type": "code",
      "metadata": {
        "colab": {
          "base_uri": "https://localhost:8080/"
        },
        "id": "QdBntPkd0o2i",
        "outputId": "8b659604-18d0-4435-d9ea-644cdbd32e55"
      },
      "source": [
        "%ls"
      ],
      "execution_count": 11,
      "outputs": [
        {
          "output_type": "stream",
          "text": [
            "Untitled0.ipynb\n"
          ],
          "name": "stdout"
        }
      ]
    },
    {
      "cell_type": "code",
      "metadata": {
        "id": "ZAO534mX1jHO"
      },
      "source": [
        ""
      ],
      "execution_count": null,
      "outputs": []
    }
  ]
}